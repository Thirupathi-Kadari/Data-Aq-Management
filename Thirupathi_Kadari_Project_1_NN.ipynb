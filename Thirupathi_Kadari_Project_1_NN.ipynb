{
 "cells": [
  {
   "cell_type": "markdown",
   "id": "009e8fc2",
   "metadata": {
    "id": "009e8fc2"
   },
   "source": [
    "# 1. Build your own convolutional neural network using pytorch"
   ]
  },
  {
   "cell_type": "code",
   "execution_count": 1,
   "id": "133be475",
   "metadata": {
    "executionInfo": {
     "elapsed": 7503,
     "status": "ok",
     "timestamp": 1679753929041,
     "user": {
      "displayName": "kiran v",
      "userId": "12781126079842437059"
     },
     "user_tz": -330
    },
    "id": "133be475"
   },
   "outputs": [],
   "source": [
    "import torch\n",
    "from torch import nn\n",
    "import torchvision\n",
    "import torchvision.transforms as transforms\n",
    "import torch.nn.functional as F\n",
    "import torch.optim as optim\n",
    "import os\n",
    "\n",
    "import matplotlib.pyplot as plt\n",
    "import numpy as np\n",
    "import pandas as pd\n",
    "import cv2"
   ]
  },
  {
   "cell_type": "code",
   "execution_count": 2,
   "id": "hwdLEWbpiR-H",
   "metadata": {
    "colab": {
     "base_uri": "https://localhost:8080/"
    },
    "executionInfo": {
     "elapsed": 9,
     "status": "ok",
     "timestamp": 1679753929042,
     "user": {
      "displayName": "kiran v",
      "userId": "12781126079842437059"
     },
     "user_tz": -330
    },
    "id": "hwdLEWbpiR-H",
    "outputId": "2989a91b-3029-4a4d-a3be-3273eaae772e"
   },
   "outputs": [
    {
     "data": {
      "text/plain": [
       "['.config', 'sample_data']"
      ]
     },
     "execution_count": 2,
     "metadata": {},
     "output_type": "execute_result"
    }
   ],
   "source": [
    "os.listdir('./')"
   ]
  },
  {
   "cell_type": "code",
   "execution_count": 3,
   "id": "ay_w0g60lxLJ",
   "metadata": {
    "colab": {
     "base_uri": "https://localhost:8080/",
     "height": 328
    },
    "executionInfo": {
     "elapsed": 4505,
     "status": "error",
     "timestamp": 1679753933541,
     "user": {
      "displayName": "kiran v",
      "userId": "12781126079842437059"
     },
     "user_tz": -330
    },
    "id": "ay_w0g60lxLJ",
    "outputId": "1f70c117-3ce0-4c29-cdad-86a874c78d68"
   },
   "outputs": [
    {
     "ename": "MessageError",
     "evalue": "ignored",
     "output_type": "error",
     "traceback": [
      "\u001b[0;31m---------------------------------------------------------------------------\u001b[0m",
      "\u001b[0;31mMessageError\u001b[0m                              Traceback (most recent call last)",
      "\u001b[0;32m<ipython-input-3-636f7e70c0f3>\u001b[0m in \u001b[0;36m<module>\u001b[0;34m\u001b[0m\n\u001b[1;32m      1\u001b[0m \u001b[0;32mfrom\u001b[0m \u001b[0mgoogle\u001b[0m\u001b[0;34m.\u001b[0m\u001b[0mcolab\u001b[0m \u001b[0;32mimport\u001b[0m \u001b[0mdrive\u001b[0m\u001b[0;34m\u001b[0m\u001b[0;34m\u001b[0m\u001b[0m\n\u001b[0;32m----> 2\u001b[0;31m \u001b[0mdrive\u001b[0m\u001b[0;34m.\u001b[0m\u001b[0mmount\u001b[0m\u001b[0;34m(\u001b[0m\u001b[0;34m'/content/drive'\u001b[0m\u001b[0;34m,\u001b[0m\u001b[0mforce_remount\u001b[0m\u001b[0;34m=\u001b[0m\u001b[0;32mTrue\u001b[0m\u001b[0;34m)\u001b[0m\u001b[0;34m\u001b[0m\u001b[0;34m\u001b[0m\u001b[0m\n\u001b[0m",
      "\u001b[0;32m/usr/local/lib/python3.9/dist-packages/google/colab/drive.py\u001b[0m in \u001b[0;36mmount\u001b[0;34m(mountpoint, force_remount, timeout_ms, readonly)\u001b[0m\n\u001b[1;32m    101\u001b[0m \u001b[0;32mdef\u001b[0m \u001b[0mmount\u001b[0m\u001b[0;34m(\u001b[0m\u001b[0mmountpoint\u001b[0m\u001b[0;34m,\u001b[0m \u001b[0mforce_remount\u001b[0m\u001b[0;34m=\u001b[0m\u001b[0;32mFalse\u001b[0m\u001b[0;34m,\u001b[0m \u001b[0mtimeout_ms\u001b[0m\u001b[0;34m=\u001b[0m\u001b[0;36m120000\u001b[0m\u001b[0;34m,\u001b[0m \u001b[0mreadonly\u001b[0m\u001b[0;34m=\u001b[0m\u001b[0;32mFalse\u001b[0m\u001b[0;34m)\u001b[0m\u001b[0;34m:\u001b[0m\u001b[0;34m\u001b[0m\u001b[0;34m\u001b[0m\u001b[0m\n\u001b[1;32m    102\u001b[0m   \u001b[0;34m\"\"\"Mount your Google Drive at the specified mountpoint path.\"\"\"\u001b[0m\u001b[0;34m\u001b[0m\u001b[0;34m\u001b[0m\u001b[0m\n\u001b[0;32m--> 103\u001b[0;31m   return _mount(\n\u001b[0m\u001b[1;32m    104\u001b[0m       \u001b[0mmountpoint\u001b[0m\u001b[0;34m,\u001b[0m\u001b[0;34m\u001b[0m\u001b[0;34m\u001b[0m\u001b[0m\n\u001b[1;32m    105\u001b[0m       \u001b[0mforce_remount\u001b[0m\u001b[0;34m=\u001b[0m\u001b[0mforce_remount\u001b[0m\u001b[0;34m,\u001b[0m\u001b[0;34m\u001b[0m\u001b[0;34m\u001b[0m\u001b[0m\n",
      "\u001b[0;32m/usr/local/lib/python3.9/dist-packages/google/colab/drive.py\u001b[0m in \u001b[0;36m_mount\u001b[0;34m(mountpoint, force_remount, timeout_ms, ephemeral, readonly)\u001b[0m\n\u001b[1;32m    130\u001b[0m   )\n\u001b[1;32m    131\u001b[0m   \u001b[0;32mif\u001b[0m \u001b[0mephemeral\u001b[0m\u001b[0;34m:\u001b[0m\u001b[0;34m\u001b[0m\u001b[0;34m\u001b[0m\u001b[0m\n\u001b[0;32m--> 132\u001b[0;31m     _message.blocking_request(\n\u001b[0m\u001b[1;32m    133\u001b[0m         \u001b[0;34m'request_auth'\u001b[0m\u001b[0;34m,\u001b[0m \u001b[0mrequest\u001b[0m\u001b[0;34m=\u001b[0m\u001b[0;34m{\u001b[0m\u001b[0;34m'authType'\u001b[0m\u001b[0;34m:\u001b[0m \u001b[0;34m'dfs_ephemeral'\u001b[0m\u001b[0;34m}\u001b[0m\u001b[0;34m,\u001b[0m \u001b[0mtimeout_sec\u001b[0m\u001b[0;34m=\u001b[0m\u001b[0;32mNone\u001b[0m\u001b[0;34m\u001b[0m\u001b[0;34m\u001b[0m\u001b[0m\n\u001b[1;32m    134\u001b[0m     )\n",
      "\u001b[0;32m/usr/local/lib/python3.9/dist-packages/google/colab/_message.py\u001b[0m in \u001b[0;36mblocking_request\u001b[0;34m(request_type, request, timeout_sec, parent)\u001b[0m\n\u001b[1;32m    175\u001b[0m       \u001b[0mrequest_type\u001b[0m\u001b[0;34m,\u001b[0m \u001b[0mrequest\u001b[0m\u001b[0;34m,\u001b[0m \u001b[0mparent\u001b[0m\u001b[0;34m=\u001b[0m\u001b[0mparent\u001b[0m\u001b[0;34m,\u001b[0m \u001b[0mexpect_reply\u001b[0m\u001b[0;34m=\u001b[0m\u001b[0;32mTrue\u001b[0m\u001b[0;34m\u001b[0m\u001b[0;34m\u001b[0m\u001b[0m\n\u001b[1;32m    176\u001b[0m   )\n\u001b[0;32m--> 177\u001b[0;31m   \u001b[0;32mreturn\u001b[0m \u001b[0mread_reply_from_input\u001b[0m\u001b[0;34m(\u001b[0m\u001b[0mrequest_id\u001b[0m\u001b[0;34m,\u001b[0m \u001b[0mtimeout_sec\u001b[0m\u001b[0;34m)\u001b[0m\u001b[0;34m\u001b[0m\u001b[0;34m\u001b[0m\u001b[0m\n\u001b[0m",
      "\u001b[0;32m/usr/local/lib/python3.9/dist-packages/google/colab/_message.py\u001b[0m in \u001b[0;36mread_reply_from_input\u001b[0;34m(message_id, timeout_sec)\u001b[0m\n\u001b[1;32m    102\u001b[0m     ):\n\u001b[1;32m    103\u001b[0m       \u001b[0;32mif\u001b[0m \u001b[0;34m'error'\u001b[0m \u001b[0;32min\u001b[0m \u001b[0mreply\u001b[0m\u001b[0;34m:\u001b[0m\u001b[0;34m\u001b[0m\u001b[0;34m\u001b[0m\u001b[0m\n\u001b[0;32m--> 104\u001b[0;31m         \u001b[0;32mraise\u001b[0m \u001b[0mMessageError\u001b[0m\u001b[0;34m(\u001b[0m\u001b[0mreply\u001b[0m\u001b[0;34m[\u001b[0m\u001b[0;34m'error'\u001b[0m\u001b[0;34m]\u001b[0m\u001b[0;34m)\u001b[0m\u001b[0;34m\u001b[0m\u001b[0;34m\u001b[0m\u001b[0m\n\u001b[0m\u001b[1;32m    105\u001b[0m       \u001b[0;32mreturn\u001b[0m \u001b[0mreply\u001b[0m\u001b[0;34m.\u001b[0m\u001b[0mget\u001b[0m\u001b[0;34m(\u001b[0m\u001b[0;34m'data'\u001b[0m\u001b[0;34m,\u001b[0m \u001b[0;32mNone\u001b[0m\u001b[0;34m)\u001b[0m\u001b[0;34m\u001b[0m\u001b[0;34m\u001b[0m\u001b[0m\n\u001b[1;32m    106\u001b[0m \u001b[0;34m\u001b[0m\u001b[0m\n",
      "\u001b[0;31mMessageError\u001b[0m: Error: credential propagation was unsuccessful"
     ]
    }
   ],
   "source": [
    "from google.colab import drive\n",
    "drive.mount('/content/drive',force_remount=True)"
   ]
  },
  {
   "cell_type": "code",
   "execution_count": null,
   "id": "A6a7RUsmiuit",
   "metadata": {
    "executionInfo": {
     "elapsed": 11,
     "status": "aborted",
     "timestamp": 1679753933543,
     "user": {
      "displayName": "kiran v",
      "userId": "12781126079842437059"
     },
     "user_tz": -330
    },
    "id": "A6a7RUsmiuit"
   },
   "outputs": [],
   "source": [
    "%cd /content/drive/My\\ Drive/Colab Notebooks"
   ]
  },
  {
   "cell_type": "code",
   "execution_count": null,
   "id": "W-xzojc6Nxeg",
   "metadata": {
    "executionInfo": {
     "elapsed": 12,
     "status": "aborted",
     "timestamp": 1679753933544,
     "user": {
      "displayName": "kiran v",
      "userId": "12781126079842437059"
     },
     "user_tz": -330
    },
    "id": "W-xzojc6Nxeg"
   },
   "outputs": [],
   "source": [
    "# Device configuration\n",
    "device = torch.device('cuda' if torch.cuda.is_available() else 'cpu')\n",
    "print(device)"
   ]
  },
  {
   "cell_type": "code",
   "execution_count": null,
   "id": "pYpLqn61tuof",
   "metadata": {
    "executionInfo": {
     "elapsed": 13,
     "status": "aborted",
     "timestamp": 1679753933548,
     "user": {
      "displayName": "kiran v",
      "userId": "12781126079842437059"
     },
     "user_tz": -330
    },
    "id": "pYpLqn61tuof"
   },
   "outputs": [],
   "source": [
    "class CNet(nn.Module):\n",
    "    def __init__(self):\n",
    "        super(CNet, self).__init__()\n",
    "        # n = 256\n",
    "        self.conv1 = nn.Conv2d(3, 64, 3)  # 254\n",
    "        self.conv2 = nn.Conv2d(64, 64, 3) # 252\n",
    "        self.conv3 = nn.Conv2d(64, 64, 3) # 250\n",
    "        self.pool1 = nn.MaxPool2d(2, 2)   # 125\n",
    "\n",
    "        self.conv4 = nn.Conv2d(64, 128, 3)  # 123\n",
    "        self.conv5 = nn.Conv2d(128, 128, 3) # 121\n",
    "        self.conv6 = nn.Conv2d(128, 128, 3) # 119\n",
    "        self.pool2 = nn.MaxPool2d(2, 2) # 59\n",
    "\n",
    "        self.conv7 = nn.Conv2d(128, 256, 3) # 57\n",
    "        self.conv8 = nn.Conv2d(256, 256, 3) # 55\n",
    "        self.conv9 = nn.Conv2d(256, 256, 3) # 53\n",
    "        self.pool3 = nn.MaxPool2d(2, 2) # 26\n",
    "\n",
    "        self.conv10 = nn.Conv2d(256, 512, 3) # 24\n",
    "        self.conv11 = nn.Conv2d(512, 512, 3) # 22\n",
    "        self.conv12 = nn.Conv2d(512, 16, 3) # 20\n",
    "        #self.conv13 = nn.Conv2d(512, 512, 3) # 18\n",
    "        #self.conv14 = nn.Conv2d(512, 512, 3) # 16\n",
    "        #self.conv15 = nn.Conv2d(512, 32, 3) # 14\n",
    "        self.pool4 = nn.MaxPool2d(2, 2) # 10\n",
    "        \n",
    "        self.fc1 = nn.Linear(10*10*16, 256)\n",
    "        self.dropout1 = nn.Dropout2d(0.5)\n",
    "        self.fc2 = nn.Linear(256, 64)\n",
    "        self.dropout2 = nn.Dropout2d(0.25)\n",
    "        self.fc3 = nn.Linear(64, 4)\n",
    "        \n",
    "\n",
    "    def forward(self, x):\n",
    "  \n",
    "        x = F.relu(self.conv1(x))\n",
    "        x = F.relu(self.conv2(x))\n",
    "        x = self.pool1(F.relu(self.conv3(x)))\n",
    "\n",
    "        x = F.relu(self.conv4(x))\n",
    "        x = F.relu(self.conv5(x))\n",
    "        x = self.pool2(F.relu(self.conv6(x)))\n",
    "\n",
    "        x = F.relu(self.conv7(x))\n",
    "        x = F.relu(self.conv8(x))\n",
    "        x = self.pool3(F.relu(self.conv9(x)))\n",
    "\n",
    "        x = F.relu(self.conv10(x))\n",
    "        x = F.relu(self.conv11(x))\n",
    "        x = self.pool4(F.relu(self.conv12(x)))\n",
    "        #x = F.relu(self.conv13(x))\n",
    "        #x = F.relu(self.conv14(x))       \n",
    "        #x = self.pool4(F.relu(self.conv15(x)))\n",
    "       \n",
    "        x = x.view(-1, 10*10*16)\n",
    "        x = F.relu(self.fc1(x))\n",
    "        x = self.dropout1(x)\n",
    "        x = F.relu(self.fc2(x))\n",
    "        x = self.dropout2(x)\n",
    "        x = F.log_softmax(self.fc3(x), dim=1)\n",
    "        return x"
   ]
  },
  {
   "cell_type": "markdown",
   "id": "a0c45b84",
   "metadata": {
    "id": "a0c45b84"
   },
   "source": [
    "# 2. Train your model using cow teat datasets (you may need to use  Google Colab (or Kaggle) with GPU to train your code) "
   ]
  },
  {
   "cell_type": "code",
   "execution_count": null,
   "id": "AnZB2de-jjEx",
   "metadata": {
    "executionInfo": {
     "elapsed": 12,
     "status": "aborted",
     "timestamp": 1679753933545,
     "user": {
      "displayName": "kiran v",
      "userId": "12781126079842437059"
     },
     "user_tz": -330
    },
    "id": "AnZB2de-jjEx"
   },
   "outputs": [],
   "source": [
    "train_data_path = './Project1'"
   ]
  },
  {
   "cell_type": "code",
   "execution_count": null,
   "id": "N9Gq55GejjHl",
   "metadata": {
    "executionInfo": {
     "elapsed": 12,
     "status": "aborted",
     "timestamp": 1679753933545,
     "user": {
      "displayName": "kiran v",
      "userId": "12781126079842437059"
     },
     "user_tz": -330
    },
    "id": "N9Gq55GejjHl"
   },
   "outputs": [],
   "source": [
    "training_transform = transforms.Compose(\n",
    "    [transforms.Resize((256,256)),\n",
    "     transforms.RandomHorizontalFlip(),\n",
    "     transforms.RandomRotation(10),\n",
    "     transforms.ToTensor(),\n",
    "     transforms.Normalize((0.5, 0.5, 0.5), (0.5, 0.5, 0.5))])"
   ]
  },
  {
   "cell_type": "code",
   "execution_count": null,
   "id": "e0JtMcLIjjK_",
   "metadata": {
    "executionInfo": {
     "elapsed": 13,
     "status": "aborted",
     "timestamp": 1679753933546,
     "user": {
      "displayName": "kiran v",
      "userId": "12781126079842437059"
     },
     "user_tz": -330
    },
    "id": "e0JtMcLIjjK_"
   },
   "outputs": [],
   "source": [
    "train_data = torchvision.datasets.ImageFolder(root = train_data_path, transform = training_transform)\n"
   ]
  },
  {
   "cell_type": "code",
   "execution_count": null,
   "id": "JZNiuGdekm1G",
   "metadata": {
    "executionInfo": {
     "elapsed": 12,
     "status": "aborted",
     "timestamp": 1679753933546,
     "user": {
      "displayName": "kiran v",
      "userId": "12781126079842437059"
     },
     "user_tz": -330
    },
    "id": "JZNiuGdekm1G"
   },
   "outputs": [],
   "source": [
    "train_loader = torch.utils.data.DataLoader(dataset = train_data, batch_size=16, shuffle = True)"
   ]
  },
  {
   "cell_type": "code",
   "execution_count": null,
   "id": "B3mmyGuH7JR_",
   "metadata": {
    "executionInfo": {
     "elapsed": 12,
     "status": "aborted",
     "timestamp": 1679753933546,
     "user": {
      "displayName": "kiran v",
      "userId": "12781126079842437059"
     },
     "user_tz": -330
    },
    "id": "B3mmyGuH7JR_"
   },
   "outputs": [],
   "source": [
    "test_data_path = './Project11'"
   ]
  },
  {
   "cell_type": "code",
   "execution_count": null,
   "id": "Ws1CVHJe7CbV",
   "metadata": {
    "executionInfo": {
     "elapsed": 13,
     "status": "aborted",
     "timestamp": 1679753933547,
     "user": {
      "displayName": "kiran v",
      "userId": "12781126079842437059"
     },
     "user_tz": -330
    },
    "id": "Ws1CVHJe7CbV"
   },
   "outputs": [],
   "source": [
    "test_transform = transforms.Compose(\n",
    "    [transforms.Resize((256,256)),\n",
    "     transforms.ToTensor(),\n",
    "     transforms.Normalize((0.5, 0.5, 0.5), (0.5, 0.5, 0.5))])"
   ]
  },
  {
   "cell_type": "code",
   "execution_count": null,
   "id": "9IfpaVHi7TYi",
   "metadata": {
    "executionInfo": {
     "elapsed": 13,
     "status": "aborted",
     "timestamp": 1679753933547,
     "user": {
      "displayName": "kiran v",
      "userId": "12781126079842437059"
     },
     "user_tz": -330
    },
    "id": "9IfpaVHi7TYi"
   },
   "outputs": [],
   "source": [
    "test_data = torchvision.datasets.ImageFolder(root = test_data_path, transform = test_transform)"
   ]
  },
  {
   "cell_type": "code",
   "execution_count": null,
   "id": "UyLlbN1O7Z1S",
   "metadata": {
    "executionInfo": {
     "elapsed": 14,
     "status": "aborted",
     "timestamp": 1679753933548,
     "user": {
      "displayName": "kiran v",
      "userId": "12781126079842437059"
     },
     "user_tz": -330
    },
    "id": "UyLlbN1O7Z1S"
   },
   "outputs": [],
   "source": [
    "test_loader = torch.utils.data.DataLoader(dataset = test_data, batch_size=380, shuffle = False)"
   ]
  },
  {
   "cell_type": "code",
   "execution_count": null,
   "id": "L7nfJ_R1ktkR",
   "metadata": {
    "executionInfo": {
     "elapsed": 13,
     "status": "aborted",
     "timestamp": 1679753933548,
     "user": {
      "displayName": "kiran v",
      "userId": "12781126079842437059"
     },
     "user_tz": -330
    },
    "id": "L7nfJ_R1ktkR"
   },
   "outputs": [],
   "source": [
    "def imshow(img):\n",
    "    img = img / 2 + 0.5  # unnormalize\n",
    "    npimg = img.numpy()\n",
    "    plt.imshow(np.transpose(npimg, (1, 2, 0)))\n",
    "    plt.show()\n",
    "\n",
    "\n",
    "# get some random training images\n",
    "dataiter = iter(train_loader)\n",
    "images, labels = dataiter.__next__()\n",
    "\n",
    "# show images\n",
    "imshow(torchvision.utils.make_grid(images))"
   ]
  },
  {
   "cell_type": "code",
   "execution_count": null,
   "id": "6isI1oOe_ZRD",
   "metadata": {
    "executionInfo": {
     "elapsed": 14,
     "status": "aborted",
     "timestamp": 1679753933549,
     "user": {
      "displayName": "kiran v",
      "userId": "12781126079842437059"
     },
     "user_tz": -330
    },
    "id": "6isI1oOe_ZRD"
   },
   "outputs": [],
   "source": [
    "#model = CNet().to(device)\n",
    "#model1 = CNet().to(device)\n",
    "model = torch.load('cnn18_20.pt')\n",
    "#model = torch.load('cnn18_50.pt')\n",
    "#model = torch.load('ep_300.pt')\n",
    "#model = torchvision.models.googlenet(pretrained=True)\n",
    "#model.fc = torch.nn.Linear(in_features=1024, out_features= 4)\n"
   ]
  },
  {
   "cell_type": "code",
   "execution_count": null,
   "id": "KAn7cSKutvPQ",
   "metadata": {
    "executionInfo": {
     "elapsed": 14,
     "status": "aborted",
     "timestamp": 1679753933549,
     "user": {
      "displayName": "kiran v",
      "userId": "12781126079842437059"
     },
     "user_tz": -330
    },
    "id": "KAn7cSKutvPQ"
   },
   "outputs": [],
   "source": [
    "# Define the loss\n",
    "criterion = nn.CrossEntropyLoss()\n",
    "\n",
    "# Optimizers require the parameters to optimize and a learning rate\n",
    "optimizer = optim.SGD(model.parameters(), lr=0.002, momentum=0.9)\n",
    "#torch.optim.Adam(model.parameters(), lr=0.002, weight_decay=0.7)"
   ]
  },
  {
   "cell_type": "code",
   "execution_count": null,
   "id": "hu2dhSvWxTd1",
   "metadata": {
    "executionInfo": {
     "elapsed": 15,
     "status": "aborted",
     "timestamp": 1679753933550,
     "user": {
      "displayName": "kiran v",
      "userId": "12781126079842437059"
     },
     "user_tz": -330
    },
    "id": "hu2dhSvWxTd1"
   },
   "outputs": [],
   "source": [
    "epochs = 50\n",
    "best_loss = float('inf') # initialize the best loss to a very high value\n",
    "\n",
    "for e in range(epochs):\n",
    "    running_loss = 0\n",
    "    \n",
    "    # set the model to training mode\n",
    "    model.train()\n",
    "    \n",
    "    for images, labels in train_loader:\n",
    "        optimizer.zero_grad()\n",
    "        outputs = model(images.to(device))\n",
    "        loss = criterion(outputs, labels.to(device))\n",
    "        loss.backward()\n",
    "        optimizer.step()\n",
    "        running_loss += loss.item()\n",
    "    \n",
    "    # calculate the average training loss\n",
    "    train_loss = running_loss / len(train_loader)\n",
    "    \n",
    "    # set the model to evaluation mode\n",
    "    model.eval()\n",
    "    \n",
    "    # calculate the validation loss\n",
    "    valid_loss = 0\n",
    "    with torch.no_grad():\n",
    "        for images, labels in val_loader:\n",
    "            outputs = model(images.to(device))\n",
    "            loss = criterion(outputs, labels.to(device))\n",
    "            valid_loss += loss.item()\n",
    "    \n",
    "    # calculate the average validation loss\n",
    "    valid_loss /= len(val_loader)\n",
    "    \n",
    "    # print the training and validation losses for each epoch\n",
    "    print(f\"Epoch {e+1}/{epochs}: Train Loss={train_loss:.4f}, Valid Loss={valid_loss:.4f}\")\n",
    "    \n",
    "    # save the model if the validation loss has improved\n",
    "    if valid_loss < best_loss:\n",
    "        torch.save(model.state_dict(), 'cnn10_best.pt')\n",
    "        best_loss = valid_loss\n",
    "        \n",
    "# save the final trained model\n",
    "torch.save(model.state_dict(), 'cnn10_18.pt')\n"
   ]
  },
  {
   "cell_type": "code",
   "execution_count": null,
   "id": "bWEibNoWJd8f",
   "metadata": {
    "id": "bWEibNoWJd8f"
   },
   "outputs": [],
   "source": [
    "correct = 0\n",
    "total = 0\n",
    "\n",
    "with torch.no_grad():\n",
    "    for data in train_loader:\n",
    "        X,y = data\n",
    "        outputs = model(X.to(device))\n",
    "        for idx, i in enumerate(outputs):\n",
    "            if torch.argmax(i) == y[idx]:\n",
    "                correct += 1\n",
    "            total += 1\n",
    "print(\"Train Accuracy: \", round(correct/total, 3))"
   ]
  },
  {
   "cell_type": "code",
   "execution_count": 22,
   "id": "9B25TccPzPVm",
   "metadata": {
    "executionInfo": {
     "elapsed": 370,
     "status": "ok",
     "timestamp": 1679710633222,
     "user": {
      "displayName": "kiran v",
      "userId": "12781126079842437059"
     },
     "user_tz": -330
    },
    "id": "9B25TccPzPVm"
   },
   "outputs": [],
   "source": [
    "def import_test_dataset(root_path, resized_size = (224,224)):\n",
    "  img_data_files = []\n",
    "  img_data_names = os.listdir(root_path)\n",
    "  for img in img_data_names:\n",
    "    path_=os.path.join(root_path, img)\n",
    "    img = plt.imread(path_)\n",
    "    resized = cv2.resize(img, resized_size)\n",
    "    img_data_files.append(resized.flatten())\n",
    "\n",
    "  return( (np.array(img_data_files),np.array(img_data_names)) )\n"
   ]
  },
  {
   "cell_type": "code",
   "execution_count": null,
   "id": "u1FhynWzI3LZ",
   "metadata": {
    "id": "u1FhynWzI3LZ"
   },
   "outputs": [],
   "source": [
    "size_of_resized_img = (224,224)\n",
    "test_data, test_names = import_test_dataset(test_data_path, resized_size= size_of_resized_img)\n",
    "print(test_data.shape)\n",
    "print(test_names.shape)"
   ]
  },
  {
   "cell_type": "code",
   "execution_count": 24,
   "id": "CLXpU-DXYkWy",
   "metadata": {
    "colab": {
     "base_uri": "https://localhost:8080/"
    },
    "executionInfo": {
     "elapsed": 10611,
     "status": "ok",
     "timestamp": 1679710714183,
     "user": {
      "displayName": "kiran v",
      "userId": "12781126079842437059"
     },
     "user_tz": -330
    },
    "id": "CLXpU-DXYkWy",
    "outputId": "4c55913b-10dd-4e3c-d3cd-e13f5ce75f5f"
   },
   "outputs": [
    {
     "name": "stdout",
     "output_type": "stream",
     "text": [
      "[1]\n"
     ]
    }
   ],
   "source": [
    "with torch.no_grad():\n",
    "    for data in test_data:\n",
    "        X,y = data\n",
    "        outputs = model(X.to(device))\n",
    "        test_labels = []\n",
    "        for idx, i in enumerate(outputs):\n",
    "            arg = torch.argmax(i).tolist()\n",
    "            arg += 1\n",
    "            test_labels.append(arg)\n",
    "print(test_labels)"
   ]
  },
  {
   "cell_type": "code",
   "execution_count": null,
   "id": "2Es3j3lrdIJt",
   "metadata": {
    "id": "2Es3j3lrdIJt"
   },
   "outputs": [],
   "source": [
    "# Storing the test images and their labels to a csv file\n",
    "\n",
    "test_data_dir = r'/content/drive/MyDrive/Colab Notebooks/Test'\n",
    "test_img_list = []\n",
    "\n",
    "for dir1 in os.listdir(test_data_dir):\n",
    "    for file in os.listdir(os.path.join(test_data_dir, dir1)):\n",
    "        test_img_list.append(file)\n",
    "\n",
    "Test_results = pd.DataFrame(list(zip(test_img_list,test_labels)))\n",
    "Test_results.to_csv(\"Results_CNN.csv\",header=False,index=False)"
   ]
  },
  {
   "cell_type": "code",
   "execution_count": null,
   "id": "50effdac",
   "metadata": {
    "id": "50effdac"
   },
   "outputs": [],
   "source": []
  },
  {
   "cell_type": "markdown",
   "id": "7f63262f",
   "metadata": {
    "id": "7f63262f"
   },
   "source": [
    "# 3. Evaluate your model using the developed software"
   ]
  },
  {
   "attachments": {
    "ResultCNN.png": {
     "image/png": "[encoded data removed]"
    }
   },
   "cell_type": "markdown",
   "id": "888a34c9",
   "metadata": {},
   "source": [
    "![ResultCNN.png](attachment:ResultCNN.png)"
   ]
  },
  {
   "cell_type": "markdown",
   "id": "1b5846bc",
   "metadata": {
    "id": "1b5846bc"
   },
   "source": [
    "# 4. Compare results with [SCTL paper](https://www.mdpi.com/2076-2615/12/7/886/htm). Requirement: performance is better than VGG16: 66.8%"
   ]
  },
  {
   "cell_type": "code",
   "execution_count": null,
   "id": "3a626823",
   "metadata": {
    "id": "3a626823"
   },
   "outputs": [],
   "source": []
  },
  {
   "cell_type": "markdown",
   "id": "62f12835",
   "metadata": {
    "id": "62f12835"
   },
   "source": [
    "# 5. Write a four-page paper report using the shared LaTex template. Upload your paper to ResearchGate or Arxiv, and put your paper link here."
   ]
  },
  {
   "cell_type": "markdown",
   "id": "db0cccf5",
   "metadata": {
    "id": "db0cccf5"
   },
   "source": []
  },
  {
   "cell_type": "markdown",
   "id": "f476372c",
   "metadata": {
    "id": "f476372c"
   },
   "source": [
    "# 6. Grading rubric\n",
    "\n",
    "(1). Code ------- 20 points (you also need to upload your final model as a pt file)\n",
    "\n",
    "(2). Grammer ---- 20 points\n",
    "\n",
    "(3). Introduction & related work --- 10 points\n",
    "\n",
    "(4). Method  ---- 20 points\n",
    "\n",
    "(5). Results ---- 20 points\n",
    "\n",
    "(6). Discussion - 10 points"
   ]
  },
  {
   "cell_type": "code",
   "execution_count": null,
   "id": "445593c4",
   "metadata": {
    "id": "445593c4"
   },
   "outputs": [],
   "source": []
  }
 ],
 "metadata": {
  "accelerator": "GPU",
  "colab": {
   "provenance": []
  },
  "gpuClass": "standard",
  "kernelspec": {
   "display_name": "Python 3 (ipykernel)",
   "language": "python",
   "name": "python3"
  },
  "language_info": {
   "codemirror_mode": {
    "name": "ipython",
    "version": 3
   },
   "file_extension": ".py",
   "mimetype": "text/x-python",
   "name": "python",
   "nbconvert_exporter": "python",
   "pygments_lexer": "ipython3",
   "version": "3.9.7"
  }
 },
 "nbformat": 4,
 "nbformat_minor": 5
}
